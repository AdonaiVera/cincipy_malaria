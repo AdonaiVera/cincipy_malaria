{
  "nbformat": 4,
  "nbformat_minor": 0,
  "metadata": {
    "colab": {
      "name": "[Malaria] mainProject.ipynb",
      "provenance": [],
      "collapsed_sections": [],
      "include_colab_link": true
    },
    "kernelspec": {
      "name": "python3",
      "display_name": "Python 3"
    },
    "language_info": {
      "name": "python"
    },
    "accelerator": "GPU"
  },
  "cells": [
    {
      "cell_type": "markdown",
      "metadata": {
        "id": "view-in-github",
        "colab_type": "text"
      },
      "source": [
        "<a href=\"https://colab.research.google.com/github/AdonaiVera/cincipy_malaria/blob/main/main.ipynb\" target=\"_parent\"><img src=\"https://colab.research.google.com/assets/colab-badge.svg\" alt=\"Open In Colab\"/></a>"
      ]
    },
    {
      "cell_type": "markdown",
      "metadata": {
        "id": "MVtYhXO9P4fX"
      },
      "source": [
        "# PROYECTO DE CURSO OPCIONAL: Malaria\n"
      ]
    },
    {
      "cell_type": "code",
      "metadata": {
        "colab": {
          "base_uri": "https://localhost:8080/"
        },
        "id": "X0G2iDJiUoBr",
        "outputId": "b0f7491a-3d9e-4e7c-b168-dfe96c49ef06"
      },
      "source": [
        "!wget --no-check-certificate https://storage.googleapis.com/platzi-tf2/MalariaCells.zip \\\n",
        "    -O /tmp/MalariaCells.zip"
      ],
      "execution_count": null,
      "outputs": [
        {
          "output_type": "stream",
          "name": "stdout",
          "text": [
            "--2021-10-08 22:15:18--  https://storage.googleapis.com/platzi-tf2/MalariaCells.zip\n",
            "Resolving storage.googleapis.com (storage.googleapis.com)... 74.125.203.128, 74.125.204.128, 64.233.188.128, ...\n",
            "Connecting to storage.googleapis.com (storage.googleapis.com)|74.125.203.128|:443... connected.\n",
            "HTTP request sent, awaiting response... 200 OK\n",
            "Length: 547750600 (522M) [application/zip]\n",
            "Saving to: ‘/tmp/MalariaCells.zip’\n",
            "\n",
            "/tmp/MalariaCells.z 100%[===================>] 522.38M  41.4MB/s    in 13s     \n",
            "\n",
            "2021-10-08 22:15:32 (41.6 MB/s) - ‘/tmp/MalariaCells.zip’ saved [547750600/547750600]\n",
            "\n"
          ]
        }
      ]
    },
    {
      "cell_type": "markdown",
      "metadata": {
        "id": "rPnAQSyMQVn_"
      },
      "source": [
        "## Descomprimir la base de datos y almacenarla en carpetas training y test\n",
        "El siguiente código de Python usará la biblioteca del sistema operativo para usar las bibliotecas del sistema operativo, lo que le dará acceso al sistema de archivos y la biblioteca zipfile le permitirá descomprimir los datos.\n",
        "\n",
        "En el siguiente código de Python utilizamos la libreria OS para poder dar acceso a los archivos del sistema operativo y luego con la libería ZipFile descomprimimos la base de datos."
      ]
    },
    {
      "cell_type": "code",
      "metadata": {
        "id": "LYTCqKYbVvm_"
      },
      "source": [
        "import os\n",
        "import zipfile\n",
        "\n",
        "local_zip = \"/tmp/MalariaCells.zip\"\n",
        "zip_ref = zipfile.ZipFile(local_zip, \"r\")\n",
        "zip_ref.extractall(\"/tmp/MalariaCells\")\n",
        "zip_ref.close()"
      ],
      "execution_count": null,
      "outputs": []
    },
    {
      "cell_type": "markdown",
      "metadata": {
        "id": "Jc_ETtM-QkDY"
      },
      "source": [
        "#### Cargamos librerías"
      ]
    },
    {
      "cell_type": "code",
      "metadata": {
        "id": "q6waQRSFWCkS"
      },
      "source": [
        "import numpy as np\n",
        "%matplotlib inline\n",
        "import matplotlib.pyplot as plt\n",
        "import matplotlib.image as mpimg\n",
        "import string\n",
        "import tensorflow as tf\n",
        "from tensorflow.keras.preprocessing.image import ImageDataGenerator"
      ],
      "execution_count": null,
      "outputs": []
    },
    {
      "cell_type": "markdown",
      "metadata": {
        "id": "4LdMLLPoQ99p"
      },
      "source": [
        "## Buscamos la dirección de nuestra base de datos\n",
        "En este caso la base de datos esta distruibuida en training y test. Cada carpeta contiene otra subcarpeta en donde se tiene cada una de las clases de la base de datos. "
      ]
    },
    {
      "cell_type": "code",
      "metadata": {
        "id": "IjzHmcLPWrBo"
      },
      "source": [
        "train_dir = \"/tmp/MalariaCells/Train\"\n",
        "test_dir = \"/tmp/MalariaCells/Test\""
      ],
      "execution_count": null,
      "outputs": []
    },
    {
      "cell_type": "markdown",
      "metadata": {
        "id": "7v2EQQddQ6r_"
      },
      "source": [
        "## Data Generators\n",
        "Configuremos generadores de datos que leerán imágenes en nuestras carpetas de origen, las convertirán en tensores `float32` y las alimentarán (con sus etiquetas) a nuestra red. Tendremos un generador para las imágenes de entrenamiento y otro para las imágenes de validación. Nuestros generadores producirán lotes de imágenes de tamaño 28x28 y sus etiquetas."
      ]
    },
    {
      "cell_type": "code",
      "metadata": {
        "id": "4SsypqvWW2jG"
      },
      "source": [
        "train_datagen = ImageDataGenerator(rescale = 1/255)\n",
        "test_datagen = ImageDataGenerator(rescale = 1/255, validation_split= 0.2)"
      ],
      "execution_count": null,
      "outputs": []
    },
    {
      "cell_type": "code",
      "metadata": {
        "colab": {
          "base_uri": "https://localhost:8080/"
        },
        "id": "0vQShXgYXNqQ",
        "outputId": "dcf765e1-99cd-4a1d-9669-2747f1e1c3e1"
      },
      "source": [
        "train_generator = train_datagen.flow_from_directory(\n",
        "    train_dir,\n",
        "    target_size = (124, 124),\n",
        "    batch_size = 128,\n",
        "    class_mode = \"categorical\",\n",
        "    color_mode = \"grayscale\",\n",
        "    subset = \"training\"\n",
        ")\n",
        "\n",
        "validation_generator = test_datagen.flow_from_directory(\n",
        "    test_dir,\n",
        "    target_size = (124, 124),\n",
        "    batch_size = 128,\n",
        "    class_mode = \"categorical\",\n",
        "    color_mode = \"grayscale\",\n",
        "    subset = \"validation\"\n",
        ")\n",
        "\n",
        "test_generator = test_datagen.flow_from_directory(\n",
        "    test_dir,\n",
        "    target_size = (124, 124),\n",
        "    batch_size = 128,\n",
        "    class_mode = \"categorical\",\n",
        "    color_mode = \"grayscale\"\n",
        ")"
      ],
      "execution_count": null,
      "outputs": [
        {
          "output_type": "stream",
          "name": "stdout",
          "text": [
            "Found 27558 images belonging to 2 classes.\n",
            "Found 3166 images belonging to 2 classes.\n",
            "Found 15832 images belonging to 2 classes.\n"
          ]
        }
      ]
    },
    {
      "cell_type": "markdown",
      "metadata": {
        "id": "l0lWCz9sRBid"
      },
      "source": [
        "#### Definimos las clases de nuestra base de datos"
      ]
    },
    {
      "cell_type": "code",
      "metadata": {
        "id": "YqUo0D1XYf6k"
      },
      "source": [
        "classes = [\"Parasitized\", \"Uninfected\"]"
      ],
      "execution_count": null,
      "outputs": []
    },
    {
      "cell_type": "markdown",
      "metadata": {
        "id": "YOjdY-LdREc1"
      },
      "source": [
        "## Visualizamos la data"
      ]
    },
    {
      "cell_type": "code",
      "metadata": {
        "id": "bssIb6fNYgy_"
      },
      "source": [
        "def plotImages(images_arr):\n",
        "  fig, axes = plt.subplots(1, 5, figsize = (10, 10))\n",
        "  axes = axes.flatten()\n",
        "  for img, ax in zip(images_arr, axes):\n",
        "    ax.imshow(img[:,:,0])\n",
        "    ax.axis(\"off\")\n",
        "  plt.tight_layout()\n",
        "  plt.show()"
      ],
      "execution_count": null,
      "outputs": []
    },
    {
      "cell_type": "code",
      "metadata": {
        "colab": {
          "base_uri": "https://localhost:8080/",
          "height": 162
        },
        "id": "extHI7l-Y2N7",
        "outputId": "c0823783-3edb-46fa-8ef7-6aacacd69a89"
      },
      "source": [
        "sample_training_images, _= next(train_generator)\n",
        "plotImages(sample_training_images[:5])"
      ],
      "execution_count": null,
      "outputs": [
        {
          "output_type": "display_data",
          "data": {
            "image/png": "[encoded data removed]",
            "text/plain": [
              "<Figure size 720x720 with 5 Axes>"
            ]
          },
          "metadata": {
            "needs_background": "light"
          }
        }
      ]
    },
    {
      "cell_type": "markdown",
      "metadata": {
        "id": "TRtTANNvRIV-"
      },
      "source": [
        "## Creamos nuestro modelo funcional base"
      ]
    },
    {
      "cell_type": "code",
      "metadata": {
        "id": "hRMBux4MZUM_"
      },
      "source": [
        "model_base = tf.keras.models.Sequential([\n",
        "              tf.keras.layers.Flatten(input_shape= (124, 124, 1)),\n",
        "              tf.keras.layers.Dense(256, activation = \"relu\"),\n",
        "              tf.keras.layers.Dense(128, activation = \"relu\"),\n",
        "              tf.keras.layers.Dense(len(classes), activation = \"softmax\")\n",
        "])"
      ],
      "execution_count": null,
      "outputs": []
    },
    {
      "cell_type": "code",
      "metadata": {
        "colab": {
          "base_uri": "https://localhost:8080/"
        },
        "id": "wBNVc3KIhPlH",
        "outputId": "662a2ffd-4f19-4ae0-ef04-2cdbc6801b6a"
      },
      "source": [
        "model_base.summary()"
      ],
      "execution_count": null,
      "outputs": [
        {
          "output_type": "stream",
          "name": "stdout",
          "text": [
            "Model: \"sequential\"\n",
            "_________________________________________________________________\n",
            "Layer (type)                 Output Shape              Param #   \n",
            "=================================================================\n",
            "flatten (Flatten)            (None, 15376)             0         \n",
            "_________________________________________________________________\n",
            "dense (Dense)                (None, 256)               3936512   \n",
            "_________________________________________________________________\n",
            "dense_1 (Dense)              (None, 128)               32896     \n",
            "_________________________________________________________________\n",
            "dense_2 (Dense)              (None, 2)                 258       \n",
            "=================================================================\n",
            "Total params: 3,969,666\n",
            "Trainable params: 3,969,666\n",
            "Non-trainable params: 0\n",
            "_________________________________________________________________\n"
          ]
        }
      ]
    },
    {
      "cell_type": "markdown",
      "metadata": {
        "id": "n8LfvyBARN43"
      },
      "source": [
        "## Entrenamiento\n",
        "Entrenemos durante 10 épocas. Esto puede tardar unos minutos en ejecutarse."
      ]
    },
    {
      "cell_type": "code",
      "metadata": {
        "colab": {
          "base_uri": "https://localhost:8080/"
        },
        "id": "YjFwpjVLhWTG",
        "outputId": "3b9c9406-da63-4acc-cbad-12aa99433729"
      },
      "source": [
        "model_base.compile(optimizer = \"adam\", loss = \"categorical_crossentropy\", metrics = ['accuracy'])\n",
        "\n",
        "\n",
        "history = model_base.fit(\n",
        "    train_generator, \n",
        "    epochs= 20, \n",
        "    validation_data = validation_generator\n",
        ")"
      ],
      "execution_count": null,
      "outputs": [
        {
          "output_type": "stream",
          "name": "stdout",
          "text": [
            "Epoch 1/20\n",
            "216/216 [==============================] - 37s 156ms/step - loss: 0.8632 - accuracy: 0.5466 - val_loss: 0.6793 - val_accuracy: 0.5676\n",
            "Epoch 2/20\n",
            "216/216 [==============================] - 33s 153ms/step - loss: 0.6899 - accuracy: 0.5718 - val_loss: 0.6807 - val_accuracy: 0.5717\n",
            "Epoch 3/20\n",
            "216/216 [==============================] - 33s 153ms/step - loss: 0.6599 - accuracy: 0.6025 - val_loss: 0.6495 - val_accuracy: 0.6320\n",
            "Epoch 4/20\n",
            "216/216 [==============================] - 33s 152ms/step - loss: 0.6548 - accuracy: 0.6114 - val_loss: 0.6486 - val_accuracy: 0.6162\n",
            "Epoch 5/20\n",
            "216/216 [==============================] - 33s 152ms/step - loss: 0.6513 - accuracy: 0.6140 - val_loss: 0.6540 - val_accuracy: 0.6112\n",
            "Epoch 6/20\n",
            "216/216 [==============================] - 33s 151ms/step - loss: 0.6522 - accuracy: 0.6142 - val_loss: 0.6671 - val_accuracy: 0.5941\n",
            "Epoch 7/20\n",
            "216/216 [==============================] - 33s 153ms/step - loss: 0.6410 - accuracy: 0.6298 - val_loss: 0.6362 - val_accuracy: 0.6406\n",
            "Epoch 8/20\n",
            "216/216 [==============================] - 33s 153ms/step - loss: 0.6359 - accuracy: 0.6336 - val_loss: 0.6402 - val_accuracy: 0.6273\n",
            "Epoch 9/20\n",
            "216/216 [==============================] - 33s 154ms/step - loss: 0.6312 - accuracy: 0.6383 - val_loss: 0.6285 - val_accuracy: 0.6548\n",
            "Epoch 10/20\n",
            "216/216 [==============================] - 33s 153ms/step - loss: 0.6232 - accuracy: 0.6462 - val_loss: 0.6696 - val_accuracy: 0.5995\n",
            "Epoch 11/20\n",
            "216/216 [==============================] - 33s 154ms/step - loss: 0.6207 - accuracy: 0.6483 - val_loss: 0.6583 - val_accuracy: 0.6055\n",
            "Epoch 12/20\n",
            "216/216 [==============================] - 33s 154ms/step - loss: 0.6172 - accuracy: 0.6529 - val_loss: 0.6297 - val_accuracy: 0.6383\n",
            "Epoch 13/20\n",
            "216/216 [==============================] - 33s 155ms/step - loss: 0.6111 - accuracy: 0.6584 - val_loss: 0.6000 - val_accuracy: 0.6731\n",
            "Epoch 14/20\n",
            "216/216 [==============================] - 33s 153ms/step - loss: 0.6113 - accuracy: 0.6605 - val_loss: 0.6157 - val_accuracy: 0.6494\n",
            "Epoch 15/20\n",
            "216/216 [==============================] - 33s 152ms/step - loss: 0.6061 - accuracy: 0.6639 - val_loss: 0.6032 - val_accuracy: 0.6633\n",
            "Epoch 16/20\n",
            "216/216 [==============================] - 35s 161ms/step - loss: 0.6070 - accuracy: 0.6643 - val_loss: 0.6061 - val_accuracy: 0.6614\n",
            "Epoch 17/20\n",
            "216/216 [==============================] - 33s 153ms/step - loss: 0.6008 - accuracy: 0.6729 - val_loss: 0.5996 - val_accuracy: 0.6715\n",
            "Epoch 18/20\n",
            "216/216 [==============================] - 34s 157ms/step - loss: 0.6110 - accuracy: 0.6586 - val_loss: 0.5953 - val_accuracy: 0.6829\n",
            "Epoch 19/20\n",
            "216/216 [==============================] - 34s 157ms/step - loss: 0.5972 - accuracy: 0.6726 - val_loss: 0.5943 - val_accuracy: 0.6709\n",
            "Epoch 20/20\n",
            "216/216 [==============================] - 34s 155ms/step - loss: 0.5881 - accuracy: 0.6797 - val_loss: 0.5969 - val_accuracy: 0.6608\n"
          ]
        }
      ]
    },
    {
      "cell_type": "markdown",
      "metadata": {
        "id": "di3LN_LQRSFT"
      },
      "source": [
        "## Testeamos el modelo"
      ]
    },
    {
      "cell_type": "code",
      "metadata": {
        "colab": {
          "base_uri": "https://localhost:8080/"
        },
        "id": "hFrqdV6Lh0_M",
        "outputId": "f10e7933-50af-4025-a694-3e09c8551e51"
      },
      "source": [
        "results = model_base.evaluate(test_generator)"
      ],
      "execution_count": null,
      "outputs": [
        {
          "output_type": "stream",
          "name": "stdout",
          "text": [
            "124/124 [==============================] - 17s 140ms/step - loss: 0.5861 - accuracy: 0.6792\n"
          ]
        }
      ]
    },
    {
      "cell_type": "markdown",
      "metadata": {
        "id": "33zchloERTzx"
      },
      "source": [
        "## Generamos una clase para visualizar y analizar los resultados"
      ]
    },
    {
      "cell_type": "code",
      "metadata": {
        "id": "Q0zafYpfjOYi"
      },
      "source": [
        "def visualizacion_resultados(history):\n",
        "  epochs = [i for i in range(20)]\n",
        "  fig, ax = plt.subplots(1,2)\n",
        "  train_acc = history.history[\"accuracy\"]\n",
        "  train_loss = history.history[\"loss\"]\n",
        "  val_acc = history.history[\"val_accuracy\"]\n",
        "  val_loss = history.history[\"val_loss\"]\n",
        "  fig.set_size_inches(16, 9)\n",
        "\n",
        "  ax[0].plot(epochs, train_acc, \"go-\", label =\" Entrenamiento accuracy\")\n",
        "  ax[0].plot(epochs, val_acc, \"ro-\", label= \"Validacion accuracy\")\n",
        "  ax[0].set_title(\"Entrenamiento & validación accuracy\")\n",
        "  ax[0].legend()\n",
        "  ax[0].set_xlabel(\"Epochs\")\n",
        "  ax[0].set_ylabel(\"Accuracy\")\n",
        "\n",
        "  ax[1].plot(epochs, train_loss, \"go-\", label =\" Entrenamiento Loss\")\n",
        "  ax[1].plot(epochs, val_loss, \"ro-\", label= \"Validacion Loss\")\n",
        "  ax[1].set_title(\"Entrenamiento & validación Loss\")\n",
        "  ax[1].legend()\n",
        "  ax[1].set_xlabel(\"Epochs\")\n",
        "  ax[1].set_ylabel(\"Loss\")\n",
        "\n",
        "  plt.show()\n"
      ],
      "execution_count": null,
      "outputs": []
    },
    {
      "cell_type": "code",
      "metadata": {
        "colab": {
          "base_uri": "https://localhost:8080/",
          "height": 513
        },
        "id": "N-wEoSgZkcs7",
        "outputId": "62549450-7ad6-4f35-9a5c-a6e4243c18db"
      },
      "source": [
        "visualizacion_resultados(history)"
      ],
      "execution_count": null,
      "outputs": [
        {
          "output_type": "display_data",
          "data": {
            "image/png": "[encoded data removed]",
            "text/plain": [
              "<Figure size 1152x648 with 2 Axes>"
            ]
          },
          "metadata": {
            "needs_background": "light"
          }
        }
      ]
    },
    {
      "cell_type": "markdown",
      "metadata": {
        "id": "Ffdrhi7IRckL"
      },
      "source": [
        "## Creamos nuestro modelo con regularizadores"
      ]
    },
    {
      "cell_type": "code",
      "metadata": {
        "id": "2h1NzxHcZh_w"
      },
      "source": [
        "from tensorflow.keras import regularizers"
      ],
      "execution_count": null,
      "outputs": []
    },
    {
      "cell_type": "code",
      "metadata": {
        "id": "452chR8hkfbk",
        "colab": {
          "base_uri": "https://localhost:8080/"
        },
        "outputId": "701ae8ce-8de2-413c-ab42-2a748c182439"
      },
      "source": [
        "model_optimizer = tf.keras.models.Sequential([\n",
        "              tf.keras.layers.Flatten(input_shape= (124, 124, 1)),\n",
        "              tf.keras.layers.Dense(256, kernel_regularizer = regularizers.l2(1e-5), activation = \"relu\"),\n",
        "              tf.keras.layers.Dropout(0.2),\n",
        "              tf.keras.layers.Dense(128, kernel_regularizer= regularizers.l2(1e-5),activation = \"relu\"),\n",
        "              tf.keras.layers.Dropout(0.2),\n",
        "              tf.keras.layers.Dense(len(classes), activation = \"softmax\")\n",
        "])\n",
        "\n",
        "model_optimizer.summary()"
      ],
      "execution_count": null,
      "outputs": [
        {
          "output_type": "stream",
          "name": "stdout",
          "text": [
            "Model: \"sequential_1\"\n",
            "_________________________________________________________________\n",
            "Layer (type)                 Output Shape              Param #   \n",
            "=================================================================\n",
            "flatten_1 (Flatten)          (None, 15376)             0         \n",
            "_________________________________________________________________\n",
            "dense_3 (Dense)              (None, 256)               3936512   \n",
            "_________________________________________________________________\n",
            "dropout (Dropout)            (None, 256)               0         \n",
            "_________________________________________________________________\n",
            "dense_4 (Dense)              (None, 128)               32896     \n",
            "_________________________________________________________________\n",
            "dropout_1 (Dropout)          (None, 128)               0         \n",
            "_________________________________________________________________\n",
            "dense_5 (Dense)              (None, 2)                 258       \n",
            "=================================================================\n",
            "Total params: 3,969,666\n",
            "Trainable params: 3,969,666\n",
            "Non-trainable params: 0\n",
            "_________________________________________________________________\n"
          ]
        }
      ]
    },
    {
      "cell_type": "code",
      "metadata": {
        "colab": {
          "base_uri": "https://localhost:8080/"
        },
        "id": "wp9LmY2LZfYK",
        "outputId": "50c3753f-aca8-4eac-8c90-5dfe3dee51af"
      },
      "source": [
        "model_optimizer.compile(optimizer= \"adam\", loss = \"categorical_crossentropy\", metrics = [\"accuracy\"])\n",
        "\n",
        "history_optimizer = model_optimizer.fit(\n",
        "    train_generator,\n",
        "    epochs = 20,\n",
        "    validation_data = validation_generator\n",
        ")"
      ],
      "execution_count": null,
      "outputs": [
        {
          "output_type": "stream",
          "name": "stdout",
          "text": [
            "Epoch 1/20\n",
            "216/216 [==============================] - 34s 156ms/step - loss: 0.8841 - accuracy: 0.5374 - val_loss: 0.6827 - val_accuracy: 0.5846\n",
            "Epoch 2/20\n",
            "216/216 [==============================] - 33s 154ms/step - loss: 0.6896 - accuracy: 0.5411 - val_loss: 0.6903 - val_accuracy: 0.5622\n",
            "Epoch 3/20\n",
            "216/216 [==============================] - 33s 154ms/step - loss: 0.6954 - accuracy: 0.5110 - val_loss: 0.6978 - val_accuracy: 0.4981\n",
            "Epoch 4/20\n",
            "216/216 [==============================] - 33s 154ms/step - loss: 0.6980 - accuracy: 0.5005 - val_loss: 0.6974 - val_accuracy: 0.5022\n",
            "Epoch 5/20\n",
            "216/216 [==============================] - 33s 154ms/step - loss: 0.6983 - accuracy: 0.4931 - val_loss: 0.6973 - val_accuracy: 0.4981\n",
            "Epoch 6/20\n",
            "216/216 [==============================] - 33s 154ms/step - loss: 0.6972 - accuracy: 0.5010 - val_loss: 0.6970 - val_accuracy: 0.4981\n",
            "Epoch 7/20\n",
            "216/216 [==============================] - 33s 154ms/step - loss: 0.6973 - accuracy: 0.4979 - val_loss: 0.6968 - val_accuracy: 0.5022\n",
            "Epoch 8/20\n",
            "216/216 [==============================] - 33s 155ms/step - loss: 0.6967 - accuracy: 0.4975 - val_loss: 0.6965 - val_accuracy: 0.4978\n",
            "Epoch 9/20\n",
            "216/216 [==============================] - 34s 156ms/step - loss: 0.6964 - accuracy: 0.4950 - val_loss: 0.6963 - val_accuracy: 0.5022\n",
            "Epoch 10/20\n",
            "216/216 [==============================] - 33s 155ms/step - loss: 0.6962 - accuracy: 0.4963 - val_loss: 0.6961 - val_accuracy: 0.5022\n",
            "Epoch 11/20\n",
            "216/216 [==============================] - 34s 155ms/step - loss: 0.6960 - accuracy: 0.5013 - val_loss: 0.6959 - val_accuracy: 0.5022\n",
            "Epoch 12/20\n",
            "216/216 [==============================] - 34s 156ms/step - loss: 0.6959 - accuracy: 0.4989 - val_loss: 0.6958 - val_accuracy: 0.4978\n",
            "Epoch 13/20\n",
            "216/216 [==============================] - 34s 155ms/step - loss: 0.6957 - accuracy: 0.4973 - val_loss: 0.6956 - val_accuracy: 0.4978\n",
            "Epoch 14/20\n",
            "216/216 [==============================] - 33s 155ms/step - loss: 0.6956 - accuracy: 0.5004 - val_loss: 0.6956 - val_accuracy: 0.4978\n",
            "Epoch 15/20\n",
            "216/216 [==============================] - 33s 155ms/step - loss: 0.6955 - accuracy: 0.4943 - val_loss: 0.6954 - val_accuracy: 0.4978\n",
            "Epoch 16/20\n",
            "216/216 [==============================] - 34s 156ms/step - loss: 0.6953 - accuracy: 0.4989 - val_loss: 0.6952 - val_accuracy: 0.4978\n",
            "Epoch 17/20\n",
            "216/216 [==============================] - 34s 156ms/step - loss: 0.6951 - accuracy: 0.4983 - val_loss: 0.6951 - val_accuracy: 0.4978\n",
            "Epoch 18/20\n",
            "216/216 [==============================] - 34s 156ms/step - loss: 0.6950 - accuracy: 0.4997 - val_loss: 0.6950 - val_accuracy: 0.4978\n",
            "Epoch 19/20\n",
            "216/216 [==============================] - 34s 156ms/step - loss: 0.6949 - accuracy: 0.4964 - val_loss: 0.6948 - val_accuracy: 0.4978\n",
            "Epoch 20/20\n",
            "216/216 [==============================] - 34s 160ms/step - loss: 0.6948 - accuracy: 0.4985 - val_loss: 0.6947 - val_accuracy: 0.5022\n"
          ]
        }
      ]
    },
    {
      "cell_type": "code",
      "metadata": {
        "colab": {
          "base_uri": "https://localhost:8080/",
          "height": 513
        },
        "id": "WNrhDJw1d3a7",
        "outputId": "5bf572f9-9482-41a8-bf33-0fe0bb70eb2b"
      },
      "source": [
        "visualizacion_resultados(history_optimizer)"
      ],
      "execution_count": null,
      "outputs": [
        {
          "output_type": "display_data",
          "data": {
            "image/png": "[encoded data removed]",
            "text/plain": [
              "<Figure size 1152x648 with 2 Axes>"
            ]
          },
          "metadata": {
            "needs_background": "light"
          }
        }
      ]
    },
    {
      "cell_type": "markdown",
      "metadata": {
        "id": "r6CN72mURz-Y"
      },
      "source": [
        "## Creamos nuestro modelo con convoluciones"
      ]
    },
    {
      "cell_type": "code",
      "metadata": {
        "colab": {
          "base_uri": "https://localhost:8080/"
        },
        "id": "0R3T3AqMjRJj",
        "outputId": "d1df316b-996f-45ad-f07a-f614901af8fc"
      },
      "source": [
        "model_convolutional = tf.keras.models.Sequential([\n",
        "              tf.keras.layers.Conv2D(75, (3,3), activation = \"relu\", input_shape= (124, 124, 1)),\n",
        "              tf.keras.layers.MaxPool2D((2,2)),\n",
        "              tf.keras.layers.Flatten(),\n",
        "              tf.keras.layers.Dense(256, kernel_regularizer = regularizers.l2(1e-5), activation = \"relu\"),\n",
        "              tf.keras.layers.Dropout(0.2),\n",
        "              tf.keras.layers.Dense(128, kernel_regularizer= regularizers.l2(1e-5),activation = \"relu\"),\n",
        "              tf.keras.layers.Dropout(0.2),\n",
        "              tf.keras.layers.Dense(len(classes), activation = \"softmax\")\n",
        "])\n",
        "\n",
        "model_convolutional.summary()\n",
        "\n",
        "model_convolutional.compile(optimizer= \"adam\", loss = \"categorical_crossentropy\", metrics = [\"accuracy\"])\n",
        "\n",
        "history_convolutional = model_convolutional.fit(\n",
        "    train_generator,\n",
        "    epochs = 20,\n",
        "    validation_data = validation_generator\n",
        ")"
      ],
      "execution_count": null,
      "outputs": [
        {
          "output_type": "stream",
          "name": "stdout",
          "text": [
            "Model: \"sequential_2\"\n",
            "_________________________________________________________________\n",
            "Layer (type)                 Output Shape              Param #   \n",
            "=================================================================\n",
            "conv2d (Conv2D)              (None, 122, 122, 75)      750       \n",
            "_________________________________________________________________\n",
            "max_pooling2d (MaxPooling2D) (None, 61, 61, 75)        0         \n",
            "_________________________________________________________________\n",
            "flatten_2 (Flatten)          (None, 279075)            0         \n",
            "_________________________________________________________________\n",
            "dense_6 (Dense)              (None, 256)               71443456  \n",
            "_________________________________________________________________\n",
            "dropout_2 (Dropout)          (None, 256)               0         \n",
            "_________________________________________________________________\n",
            "dense_7 (Dense)              (None, 128)               32896     \n",
            "_________________________________________________________________\n",
            "dropout_3 (Dropout)          (None, 128)               0         \n",
            "_________________________________________________________________\n",
            "dense_8 (Dense)              (None, 2)                 258       \n",
            "=================================================================\n",
            "Total params: 71,477,360\n",
            "Trainable params: 71,477,360\n",
            "Non-trainable params: 0\n",
            "_________________________________________________________________\n",
            "Epoch 1/20\n",
            "216/216 [==============================] - 74s 213ms/step - loss: 0.8770 - accuracy: 0.5573 - val_loss: 0.6437 - val_accuracy: 0.6617\n",
            "Epoch 2/20\n",
            "216/216 [==============================] - 45s 210ms/step - loss: 0.6409 - accuracy: 0.6494 - val_loss: 0.5567 - val_accuracy: 0.7599\n",
            "Epoch 3/20\n",
            "216/216 [==============================] - 45s 209ms/step - loss: 0.5963 - accuracy: 0.7014 - val_loss: 0.5002 - val_accuracy: 0.8007\n",
            "Epoch 4/20\n",
            "216/216 [==============================] - 45s 210ms/step - loss: 0.5547 - accuracy: 0.7414 - val_loss: 0.4358 - val_accuracy: 0.8437\n",
            "Epoch 5/20\n",
            "216/216 [==============================] - 45s 209ms/step - loss: 0.4921 - accuracy: 0.7923 - val_loss: 0.3465 - val_accuracy: 0.8967\n",
            "Epoch 6/20\n",
            "216/216 [==============================] - 46s 211ms/step - loss: 0.4291 - accuracy: 0.8369 - val_loss: 0.3094 - val_accuracy: 0.9204\n",
            "Epoch 7/20\n",
            "216/216 [==============================] - 46s 211ms/step - loss: 0.3611 - accuracy: 0.8740 - val_loss: 0.2368 - val_accuracy: 0.9583\n",
            "Epoch 8/20\n",
            "216/216 [==============================] - 46s 211ms/step - loss: 0.3035 - accuracy: 0.9072 - val_loss: 0.2052 - val_accuracy: 0.9583\n",
            "Epoch 9/20\n",
            "216/216 [==============================] - 45s 209ms/step - loss: 0.2622 - accuracy: 0.9276 - val_loss: 0.1487 - val_accuracy: 0.9880\n",
            "Epoch 10/20\n",
            "216/216 [==============================] - 46s 210ms/step - loss: 0.2324 - accuracy: 0.9436 - val_loss: 0.1311 - val_accuracy: 0.9908\n",
            "Epoch 11/20\n",
            "216/216 [==============================] - 46s 210ms/step - loss: 0.2147 - accuracy: 0.9496 - val_loss: 0.1166 - val_accuracy: 0.9934\n",
            "Epoch 12/20\n",
            "216/216 [==============================] - 46s 211ms/step - loss: 0.1989 - accuracy: 0.9571 - val_loss: 0.1197 - val_accuracy: 0.9912\n",
            "Epoch 13/20\n",
            "216/216 [==============================] - 45s 208ms/step - loss: 0.1911 - accuracy: 0.9608 - val_loss: 0.1151 - val_accuracy: 0.9956\n",
            "Epoch 14/20\n",
            "216/216 [==============================] - 45s 208ms/step - loss: 0.1800 - accuracy: 0.9661 - val_loss: 0.1057 - val_accuracy: 0.9965\n",
            "Epoch 15/20\n",
            "216/216 [==============================] - 45s 207ms/step - loss: 0.1673 - accuracy: 0.9709 - val_loss: 0.1077 - val_accuracy: 0.9949\n",
            "Epoch 16/20\n",
            "216/216 [==============================] - 45s 208ms/step - loss: 0.1807 - accuracy: 0.9650 - val_loss: 0.1068 - val_accuracy: 0.9975\n",
            "Epoch 17/20\n",
            "216/216 [==============================] - 45s 209ms/step - loss: 0.1665 - accuracy: 0.9713 - val_loss: 0.0989 - val_accuracy: 0.9981\n",
            "Epoch 18/20\n",
            "216/216 [==============================] - 45s 209ms/step - loss: 0.1628 - accuracy: 0.9713 - val_loss: 0.1011 - val_accuracy: 0.9962\n",
            "Epoch 19/20\n",
            "216/216 [==============================] - 45s 209ms/step - loss: 0.1559 - accuracy: 0.9735 - val_loss: 0.0971 - val_accuracy: 0.9978\n",
            "Epoch 20/20\n",
            "216/216 [==============================] - 45s 208ms/step - loss: 0.1597 - accuracy: 0.9718 - val_loss: 0.0980 - val_accuracy: 0.9981\n"
          ]
        }
      ]
    },
    {
      "cell_type": "code",
      "metadata": {
        "colab": {
          "base_uri": "https://localhost:8080/",
          "height": 516
        },
        "id": "d3dosbasjhq_",
        "outputId": "22852431-83ff-46d9-adb7-68569f8d70b1"
      },
      "source": [
        "visualizacion_resultados(history_convolutional)"
      ],
      "execution_count": null,
      "outputs": [
        {
          "output_type": "display_data",
          "data": {
            "image/png": "[encoded data removed]",
            "text/plain": [
              "<Figure size 1152x648 with 2 Axes>"
            ]
          },
          "metadata": {
            "needs_background": "light"
          }
        }
      ]
    },
    {
      "cell_type": "markdown",
      "metadata": {
        "id": "d1zbUBmqSEa7"
      },
      "source": [
        "## Calbacks personalizados\n",
        "Link para visualizar más callbacks [aqui](https://colab.research.google.com/drive/1OYndV_bH8tDv5Qi8yxuoq4VzVUpsi82A?authuser=1)."
      ]
    },
    {
      "cell_type": "code",
      "metadata": {
        "colab": {
          "base_uri": "https://localhost:8080/"
        },
        "id": "IjuyU5qbpfeP",
        "outputId": "1e640d7c-43a0-4745-d109-2edeed571e19"
      },
      "source": [
        "model_callback = tf.keras.models.Sequential([\n",
        "              tf.keras.layers.Conv2D(75, (3,3), activation = \"relu\", input_shape= (124, 124, 1)),\n",
        "              tf.keras.layers.MaxPool2D((2,2)),\n",
        "              tf.keras.layers.Flatten(),\n",
        "              tf.keras.layers.Dense(256, kernel_regularizer = regularizers.l2(1e-5), activation = \"relu\"),\n",
        "              tf.keras.layers.Dropout(0.2),\n",
        "              tf.keras.layers.Dense(128, kernel_regularizer= regularizers.l2(1e-5),activation = \"relu\"),\n",
        "              tf.keras.layers.Dropout(0.2),\n",
        "              tf.keras.layers.Dense(len(classes), activation = \"softmax\")\n",
        "])\n",
        "\n",
        "model_callback.summary()\n",
        "\n",
        "model_callback.compile(optimizer= \"adam\", loss = \"categorical_crossentropy\", metrics = [\"accuracy\"])"
      ],
      "execution_count": null,
      "outputs": [
        {
          "output_type": "stream",
          "name": "stdout",
          "text": [
            "Model: \"sequential_3\"\n",
            "_________________________________________________________________\n",
            "Layer (type)                 Output Shape              Param #   \n",
            "=================================================================\n",
            "conv2d_1 (Conv2D)            (None, 122, 122, 75)      750       \n",
            "_________________________________________________________________\n",
            "max_pooling2d_1 (MaxPooling2 (None, 61, 61, 75)        0         \n",
            "_________________________________________________________________\n",
            "flatten_3 (Flatten)          (None, 279075)            0         \n",
            "_________________________________________________________________\n",
            "dense_9 (Dense)              (None, 256)               71443456  \n",
            "_________________________________________________________________\n",
            "dropout_4 (Dropout)          (None, 256)               0         \n",
            "_________________________________________________________________\n",
            "dense_10 (Dense)             (None, 128)               32896     \n",
            "_________________________________________________________________\n",
            "dropout_5 (Dropout)          (None, 128)               0         \n",
            "_________________________________________________________________\n",
            "dense_11 (Dense)             (None, 2)                 258       \n",
            "=================================================================\n",
            "Total params: 71,477,360\n",
            "Trainable params: 71,477,360\n",
            "Non-trainable params: 0\n",
            "_________________________________________________________________\n"
          ]
        }
      ]
    },
    {
      "cell_type": "code",
      "metadata": {
        "id": "vwX0sW4tpnv6"
      },
      "source": [
        "from tensorflow.keras.callbacks import Callback\n",
        "\n",
        "class TrainingCallback(Callback):\n",
        "  def on_epoch_end(self, epoch, logs = {}):\n",
        "    if logs.get(\"accuracy\") > 0.95:\n",
        "      print(\"Lo logramos, nuestro modelo llego a 95%, detenemos el entrenamiento\")\n",
        "      self.model.stop_training = True\n"
      ],
      "execution_count": null,
      "outputs": []
    },
    {
      "cell_type": "code",
      "metadata": {
        "colab": {
          "base_uri": "https://localhost:8080/"
        },
        "id": "A4_z73yCqXZm",
        "outputId": "89c6f2f2-6e28-4bef-8c63-f6e4a82e7fef"
      },
      "source": [
        "callback = TrainingCallback()\n",
        "\n",
        "history_callback = model_callback.fit(\n",
        "    train_generator,\n",
        "    epochs = 20,\n",
        "    callbacks = [callback],\n",
        "    validation_data = validation_generator\n",
        ")"
      ],
      "execution_count": null,
      "outputs": [
        {
          "output_type": "stream",
          "name": "stdout",
          "text": [
            "Epoch 1/20\n",
            "  6/216 [..............................] - ETA: 40s - loss: 5.5123 - accuracy: 0.5273WARNING:tensorflow:Callback method `on_train_batch_end` is slow compared to the batch time (batch time: 0.0891s vs `on_train_batch_end` time: 0.1028s). Check your callbacks.\n",
            "216/216 [==============================] - 47s 212ms/step - loss: 0.8951 - accuracy: 0.5784 - val_loss: 0.6375 - val_accuracy: 0.6346\n",
            "Epoch 2/20\n",
            "216/216 [==============================] - 45s 210ms/step - loss: 0.6288 - accuracy: 0.6657 - val_loss: 0.5341 - val_accuracy: 0.7697\n",
            "Epoch 3/20\n",
            "216/216 [==============================] - 45s 209ms/step - loss: 0.5865 - accuracy: 0.7095 - val_loss: 0.5179 - val_accuracy: 0.7609\n",
            "Epoch 4/20\n",
            "216/216 [==============================] - 45s 209ms/step - loss: 0.5343 - accuracy: 0.7617 - val_loss: 0.4207 - val_accuracy: 0.8607\n",
            "Epoch 5/20\n",
            "216/216 [==============================] - 45s 209ms/step - loss: 0.4772 - accuracy: 0.8024 - val_loss: 0.4283 - val_accuracy: 0.8323\n",
            "Epoch 6/20\n",
            "216/216 [==============================] - 45s 209ms/step - loss: 0.4089 - accuracy: 0.8505 - val_loss: 0.2945 - val_accuracy: 0.9368\n",
            "Epoch 7/20\n",
            "216/216 [==============================] - 45s 209ms/step - loss: 0.3323 - accuracy: 0.8927 - val_loss: 0.2187 - val_accuracy: 0.9577\n",
            "Epoch 8/20\n",
            "216/216 [==============================] - 45s 209ms/step - loss: 0.2737 - accuracy: 0.9244 - val_loss: 0.1544 - val_accuracy: 0.9823\n",
            "Epoch 9/20\n",
            "216/216 [==============================] - 45s 209ms/step - loss: 0.2377 - accuracy: 0.9403 - val_loss: 0.1433 - val_accuracy: 0.9886\n",
            "Epoch 10/20\n",
            "216/216 [==============================] - 45s 209ms/step - loss: 0.2029 - accuracy: 0.9546 - val_loss: 0.1161 - val_accuracy: 0.9975\n",
            "Lo logramos, nuestro modelo llego a 95%, detenemos el entrenamiento\n"
          ]
        }
      ]
    },
    {
      "cell_type": "code",
      "metadata": {
        "colab": {
          "base_uri": "https://localhost:8080/"
        },
        "id": "_j48vgZteGKB",
        "outputId": "298fe303-3755-4465-f933-71d95b26b091"
      },
      "source": [
        "def get_model():\n",
        "  model = tf.keras.models.Sequential([\n",
        "              tf.keras.layers.Conv2D(75, (3,3), activation = \"relu\", input_shape= (124, 124, 1)),\n",
        "              tf.keras.layers.MaxPool2D((2,2)),\n",
        "              tf.keras.layers.Flatten(),\n",
        "              tf.keras.layers.Dense(256, kernel_regularizer = regularizers.l2(1e-5), activation = \"relu\"),\n",
        "              tf.keras.layers.Dropout(0.2),\n",
        "              tf.keras.layers.Dense(128, kernel_regularizer= regularizers.l2(1e-5),activation = \"relu\"),\n",
        "              tf.keras.layers.Dropout(0.2),\n",
        "              tf.keras.layers.Dense(len(classes), activation = \"softmax\")\n",
        "  ])\n",
        "  return model\n",
        "\n",
        "model_early = get_model()\n",
        "model_early.summary()\n",
        "\n",
        "model_early.compile(optimizer= \"adam\", loss = \"categorical_crossentropy\", metrics = [\"accuracy\"])"
      ],
      "execution_count": null,
      "outputs": [
        {
          "output_type": "stream",
          "name": "stdout",
          "text": [
            "Model: \"sequential_4\"\n",
            "_________________________________________________________________\n",
            "Layer (type)                 Output Shape              Param #   \n",
            "=================================================================\n",
            "conv2d_2 (Conv2D)            (None, 122, 122, 75)      750       \n",
            "_________________________________________________________________\n",
            "max_pooling2d_2 (MaxPooling2 (None, 61, 61, 75)        0         \n",
            "_________________________________________________________________\n",
            "flatten_4 (Flatten)          (None, 279075)            0         \n",
            "_________________________________________________________________\n",
            "dense_12 (Dense)             (None, 256)               71443456  \n",
            "_________________________________________________________________\n",
            "dropout_6 (Dropout)          (None, 256)               0         \n",
            "_________________________________________________________________\n",
            "dense_13 (Dense)             (None, 128)               32896     \n",
            "_________________________________________________________________\n",
            "dropout_7 (Dropout)          (None, 128)               0         \n",
            "_________________________________________________________________\n",
            "dense_14 (Dense)             (None, 2)                 258       \n",
            "=================================================================\n",
            "Total params: 71,477,360\n",
            "Trainable params: 71,477,360\n",
            "Non-trainable params: 0\n",
            "_________________________________________________________________\n"
          ]
        }
      ]
    },
    {
      "cell_type": "markdown",
      "metadata": {
        "id": "G7OjAcPzSM7c"
      },
      "source": [
        "## Early stopping"
      ]
    },
    {
      "cell_type": "code",
      "metadata": {
        "id": "BYm8i9RveYwS"
      },
      "source": [
        "callback_early = tf.keras.callbacks.EarlyStopping(monitor = \"loss\", patience=3, mode = \"auto\")"
      ],
      "execution_count": null,
      "outputs": []
    },
    {
      "cell_type": "code",
      "metadata": {
        "colab": {
          "base_uri": "https://localhost:8080/"
        },
        "id": "UtjEKRGGe_eH",
        "outputId": "dda2108f-5ead-4522-8b2d-67db0daff427"
      },
      "source": [
        "history_early = model_early.fit(\n",
        "    train_generator, \n",
        "    epochs= 20, \n",
        "    callbacks = [callback_early],\n",
        "    validation_data = validation_generator\n",
        ")"
      ],
      "execution_count": null,
      "outputs": [
        {
          "output_type": "stream",
          "name": "stdout",
          "text": [
            "Epoch 1/20\n",
            "216/216 [==============================] - 46s 210ms/step - loss: 1.0235 - accuracy: 0.5741 - val_loss: 0.6245 - val_accuracy: 0.6731\n",
            "Epoch 2/20\n",
            "216/216 [==============================] - 45s 209ms/step - loss: 0.6225 - accuracy: 0.6681 - val_loss: 0.5478 - val_accuracy: 0.7808\n",
            "Epoch 3/20\n",
            "216/216 [==============================] - 45s 209ms/step - loss: 0.5741 - accuracy: 0.7202 - val_loss: 0.4965 - val_accuracy: 0.7862\n",
            "Epoch 4/20\n",
            "216/216 [==============================] - 45s 210ms/step - loss: 0.5281 - accuracy: 0.7637 - val_loss: 0.4513 - val_accuracy: 0.8623\n",
            "Epoch 5/20\n",
            "216/216 [==============================] - 45s 209ms/step - loss: 0.4638 - accuracy: 0.8132 - val_loss: 0.3299 - val_accuracy: 0.9160\n",
            "Epoch 6/20\n",
            "216/216 [==============================] - 45s 208ms/step - loss: 0.3700 - accuracy: 0.8701 - val_loss: 0.2495 - val_accuracy: 0.9523\n",
            "Epoch 7/20\n",
            "216/216 [==============================] - 45s 209ms/step - loss: 0.3053 - accuracy: 0.9094 - val_loss: 0.1847 - val_accuracy: 0.9757\n",
            "Epoch 8/20\n",
            "216/216 [==============================] - 45s 209ms/step - loss: 0.2538 - accuracy: 0.9345 - val_loss: 0.1584 - val_accuracy: 0.9848\n",
            "Epoch 9/20\n",
            "216/216 [==============================] - 45s 209ms/step - loss: 0.2254 - accuracy: 0.9491 - val_loss: 0.1265 - val_accuracy: 0.9931\n",
            "Epoch 10/20\n",
            "216/216 [==============================] - 45s 208ms/step - loss: 0.2035 - accuracy: 0.9592 - val_loss: 0.1264 - val_accuracy: 0.9943\n",
            "Epoch 11/20\n",
            "216/216 [==============================] - 45s 208ms/step - loss: 0.1866 - accuracy: 0.9650 - val_loss: 0.1128 - val_accuracy: 0.9949\n",
            "Epoch 12/20\n",
            "216/216 [==============================] - 45s 209ms/step - loss: 0.1807 - accuracy: 0.9688 - val_loss: 0.1213 - val_accuracy: 0.9949\n",
            "Epoch 13/20\n",
            "216/216 [==============================] - 45s 210ms/step - loss: 0.1700 - accuracy: 0.9733 - val_loss: 0.1104 - val_accuracy: 0.9981\n",
            "Epoch 14/20\n",
            "216/216 [==============================] - 46s 210ms/step - loss: 0.1642 - accuracy: 0.9750 - val_loss: 0.1112 - val_accuracy: 0.9965\n",
            "Epoch 15/20\n",
            "216/216 [==============================] - 46s 210ms/step - loss: 0.1669 - accuracy: 0.9747 - val_loss: 0.1137 - val_accuracy: 0.9972\n",
            "Epoch 16/20\n",
            "216/216 [==============================] - 45s 210ms/step - loss: 0.1626 - accuracy: 0.9766 - val_loss: 0.1136 - val_accuracy: 0.9962\n",
            "Epoch 17/20\n",
            "216/216 [==============================] - 45s 210ms/step - loss: 0.1652 - accuracy: 0.9754 - val_loss: 0.1064 - val_accuracy: 0.9994\n",
            "Epoch 18/20\n",
            "216/216 [==============================] - 45s 210ms/step - loss: 0.1516 - accuracy: 0.9806 - val_loss: 0.1267 - val_accuracy: 0.9889\n",
            "Epoch 19/20\n",
            "216/216 [==============================] - 45s 210ms/step - loss: 0.1517 - accuracy: 0.9795 - val_loss: 0.1067 - val_accuracy: 0.9972\n",
            "Epoch 20/20\n",
            "216/216 [==============================] - 45s 209ms/step - loss: 0.1429 - accuracy: 0.9825 - val_loss: 0.0985 - val_accuracy: 0.9994\n"
          ]
        }
      ]
    },
    {
      "cell_type": "markdown",
      "metadata": {
        "id": "Ip4_h5llSPqE"
      },
      "source": [
        "## Creamos nuestra modelo funcional con Auto Tunner Keras"
      ]
    },
    {
      "cell_type": "code",
      "metadata": {
        "colab": {
          "base_uri": "https://localhost:8080/"
        },
        "id": "Bnlg9NLPfSoi",
        "outputId": "b2b37855-6cf9-48c9-e6a4-41a4371cf96a"
      },
      "source": [
        "!pip install -q -U keras-tuner\n",
        "import kerastuner as kt\n",
        "from tensorflow import keras"
      ],
      "execution_count": null,
      "outputs": [
        {
          "output_type": "stream",
          "name": "stdout",
          "text": [
            "\u001b[?25l\r\u001b[K     |███▍                            | 10 kB 16.8 MB/s eta 0:00:01\r\u001b[K     |██████▊                         | 20 kB 19.8 MB/s eta 0:00:01\r\u001b[K     |██████████                      | 30 kB 13.6 MB/s eta 0:00:01\r\u001b[K     |█████████████▍                  | 40 kB 10.3 MB/s eta 0:00:01\r\u001b[K     |████████████████▊               | 51 kB 4.5 MB/s eta 0:00:01\r\u001b[K     |████████████████████            | 61 kB 4.7 MB/s eta 0:00:01\r\u001b[K     |███████████████████████▍        | 71 kB 4.5 MB/s eta 0:00:01\r\u001b[K     |██████████████████████████▊     | 81 kB 5.1 MB/s eta 0:00:01\r\u001b[K     |██████████████████████████████▏ | 92 kB 5.0 MB/s eta 0:00:01\r\u001b[K     |████████████████████████████████| 97 kB 3.1 MB/s \n",
            "\u001b[?25h"
          ]
        },
        {
          "output_type": "stream",
          "name": "stderr",
          "text": [
            "/usr/local/lib/python3.7/dist-packages/ipykernel_launcher.py:2: DeprecationWarning: `import kerastuner` is deprecated, please use `import keras_tuner`.\n",
            "  \n"
          ]
        }
      ]
    },
    {
      "cell_type": "code",
      "metadata": {
        "id": "cOLb_JW9izwa"
      },
      "source": [
        "def constructor_modelos(hp):\n",
        "  model = tf.keras.models.Sequential()\n",
        "  model.add(tf.keras.layers.Conv2D(75, (3,3), activation= \"relu\", input_shape = (124, 124, 1)))\n",
        "  model.add(tf.keras.layers.MaxPool2D((2,2)))\n",
        "  model.add(tf.keras.layers.Flatten())\n",
        "\n",
        "  hp_units = hp.Int(\"units\", min_value = 32, max_value = 512, step = 32)\n",
        "  model.add(tf.keras.layers.Dense(units=hp_units,activation = \"relu\", kernel_regularizer= regularizers.l2(1e-5)))\n",
        "  model.add(tf.keras.layers.Dropout(0.2))\n",
        "  model.add(tf.keras.layers.Dense(128,activation = \"relu\", kernel_regularizer= regularizers.l2(1e-5)))\n",
        "  model.add(tf.keras.layers.Dropout(0.2))\n",
        "  model.add(tf.keras.layers.Dense(len(classes), activation = \"softmax\"))\n",
        "\n",
        "  hp_learning_rate = hp.Choice('learning_rate', values = [1e-2, 1e-3, 1e-4])\n",
        "\n",
        "  model.compile(optimizer = keras.optimizers.Adam(learning_rate=hp_learning_rate),loss = \"categorical_crossentropy\", metrics = [\"accuracy\"])\n",
        "\n",
        "  return model\n"
      ],
      "execution_count": null,
      "outputs": []
    },
    {
      "cell_type": "code",
      "metadata": {
        "id": "UlMLamcHo_mO"
      },
      "source": [
        "tuner = kt.Hyperband(\n",
        "    constructor_modelos,\n",
        "    objective = \"val_accuracy\",\n",
        "    max_epochs = 20,\n",
        "    factor = 3,\n",
        "    directory = \"models/\",\n",
        "    project_name = \"platzi-tunner\"\n",
        ")"
      ],
      "execution_count": null,
      "outputs": []
    },
    {
      "cell_type": "code",
      "metadata": {
        "colab": {
          "base_uri": "https://localhost:8080/"
        },
        "id": "DLJYIAKOqCF1",
        "outputId": "cd1923a8-c89a-42f5-b699-592f7f398540"
      },
      "source": [
        "tuner.search(train_generator, epochs =20, validation_data = validation_generator)\n",
        "\n",
        "best_hps = tuner.get_best_hyperparameters(num_trials =1)[0]"
      ],
      "execution_count": null,
      "outputs": [
        {
          "output_type": "stream",
          "name": "stdout",
          "text": [
            "Trial 30 Complete [00h 18m 22s]\n",
            "val_accuracy: 0.985786497592926\n",
            "\n",
            "Best val_accuracy So Far: 0.9971572756767273\n",
            "Total elapsed time: 03h 27m 04s\n",
            "INFO:tensorflow:Oracle triggered exit\n"
          ]
        }
      ]
    },
    {
      "cell_type": "code",
      "metadata": {
        "colab": {
          "base_uri": "https://localhost:8080/"
        },
        "id": "iefLtSU5hdht",
        "outputId": "ddf7057a-f016-4404-8e2f-6f9a3ac98424"
      },
      "source": [
        "print(best_hps.get(\"units\"))"
      ],
      "execution_count": null,
      "outputs": [
        {
          "output_type": "stream",
          "name": "stdout",
          "text": [
            "512\n"
          ]
        }
      ]
    },
    {
      "cell_type": "code",
      "metadata": {
        "colab": {
          "base_uri": "https://localhost:8080/"
        },
        "id": "QzdykbVwhlYs",
        "outputId": "5ffe6e8e-1a65-4f53-c824-c2eb7048befc"
      },
      "source": [
        "print(best_hps.get(\"learning_rate\"))"
      ],
      "execution_count": null,
      "outputs": [
        {
          "output_type": "stream",
          "name": "stdout",
          "text": [
            "0.001\n"
          ]
        }
      ]
    },
    {
      "cell_type": "code",
      "metadata": {
        "colab": {
          "base_uri": "https://localhost:8080/"
        },
        "id": "r3-xgR-YhoRF",
        "outputId": "781e5e8c-128b-4b1b-a5e4-5364d9f429db"
      },
      "source": [
        "hypermodel = tuner.hypermodel.build(best_hps)\n",
        "\n",
        "history_hypermodel = hypermodel.fit(\n",
        "    train_generator,\n",
        "    epochs = 20,\n",
        "    callbacks = [callback_early],\n",
        "    validation_data = validation_generator\n",
        ")"
      ],
      "execution_count": null,
      "outputs": [
        {
          "output_type": "stream",
          "name": "stdout",
          "text": [
            "Epoch 1/20\n",
            "216/216 [==============================] - 61s 277ms/step - loss: 0.9139 - accuracy: 0.5712 - val_loss: 0.6475 - val_accuracy: 0.6586\n",
            "Epoch 2/20\n",
            "216/216 [==============================] - 60s 276ms/step - loss: 0.6422 - accuracy: 0.6635 - val_loss: 0.5703 - val_accuracy: 0.7571\n",
            "Epoch 3/20\n",
            "216/216 [==============================] - 60s 276ms/step - loss: 0.5970 - accuracy: 0.7162 - val_loss: 0.5032 - val_accuracy: 0.8061\n",
            "Epoch 4/20\n",
            "216/216 [==============================] - 60s 276ms/step - loss: 0.5494 - accuracy: 0.7623 - val_loss: 0.4372 - val_accuracy: 0.8591\n",
            "Epoch 5/20\n",
            "216/216 [==============================] - 60s 276ms/step - loss: 0.4765 - accuracy: 0.8248 - val_loss: 0.3524 - val_accuracy: 0.9185\n",
            "Epoch 6/20\n",
            "216/216 [==============================] - 60s 277ms/step - loss: 0.3971 - accuracy: 0.8734 - val_loss: 0.2579 - val_accuracy: 0.9653\n",
            "Epoch 7/20\n",
            "216/216 [==============================] - 60s 277ms/step - loss: 0.3267 - accuracy: 0.9148 - val_loss: 0.2121 - val_accuracy: 0.9795\n",
            "Epoch 8/20\n",
            "216/216 [==============================] - 60s 277ms/step - loss: 0.2664 - accuracy: 0.9442 - val_loss: 0.1718 - val_accuracy: 0.9912\n",
            "Epoch 9/20\n",
            "216/216 [==============================] - 60s 277ms/step - loss: 0.2345 - accuracy: 0.9595 - val_loss: 0.1553 - val_accuracy: 0.9956\n",
            "Epoch 10/20\n",
            "216/216 [==============================] - 60s 277ms/step - loss: 0.2153 - accuracy: 0.9668 - val_loss: 0.1509 - val_accuracy: 0.9956\n",
            "Epoch 11/20\n",
            "216/216 [==============================] - 60s 277ms/step - loss: 0.2024 - accuracy: 0.9731 - val_loss: 0.1549 - val_accuracy: 0.9924\n",
            "Epoch 12/20\n",
            "216/216 [==============================] - 60s 277ms/step - loss: 0.1962 - accuracy: 0.9747 - val_loss: 0.1416 - val_accuracy: 0.9981\n",
            "Epoch 13/20\n",
            "216/216 [==============================] - 60s 276ms/step - loss: 0.1862 - accuracy: 0.9791 - val_loss: 0.1388 - val_accuracy: 0.9975\n",
            "Epoch 14/20\n",
            "216/216 [==============================] - 60s 277ms/step - loss: 0.1843 - accuracy: 0.9792 - val_loss: 0.1353 - val_accuracy: 0.9981\n",
            "Epoch 15/20\n",
            "216/216 [==============================] - 60s 278ms/step - loss: 0.1826 - accuracy: 0.9789 - val_loss: 0.1370 - val_accuracy: 0.9972\n",
            "Epoch 16/20\n",
            "216/216 [==============================] - 60s 277ms/step - loss: 0.1705 - accuracy: 0.9830 - val_loss: 0.1298 - val_accuracy: 0.9987\n",
            "Epoch 17/20\n",
            "216/216 [==============================] - 60s 277ms/step - loss: 0.1668 - accuracy: 0.9837 - val_loss: 0.1341 - val_accuracy: 0.9962\n",
            "Epoch 18/20\n",
            "216/216 [==============================] - 60s 277ms/step - loss: 0.1636 - accuracy: 0.9844 - val_loss: 0.1280 - val_accuracy: 0.9978\n",
            "Epoch 19/20\n",
            "216/216 [==============================] - 60s 277ms/step - loss: 0.1611 - accuracy: 0.9851 - val_loss: 0.1236 - val_accuracy: 0.9987\n",
            "Epoch 20/20\n",
            "216/216 [==============================] - 60s 278ms/step - loss: 0.1595 - accuracy: 0.9846 - val_loss: 0.1252 - val_accuracy: 0.9981\n"
          ]
        }
      ]
    },
    {
      "cell_type": "markdown",
      "metadata": {
        "id": "RBZZwiX8SV62"
      },
      "source": [
        "## Guardar únicamente arquitectura del modelo"
      ]
    },
    {
      "cell_type": "code",
      "metadata": {
        "id": "QYM7eOoUjpSd"
      },
      "source": [
        "config_dict = hypermodel.get_config()"
      ],
      "execution_count": null,
      "outputs": []
    },
    {
      "cell_type": "code",
      "metadata": {
        "colab": {
          "base_uri": "https://localhost:8080/"
        },
        "id": "8EbHGMftk7hx",
        "outputId": "8f74a16f-6d22-4144-f71d-9f7d87251fd2"
      },
      "source": [
        "print(config_dict)"
      ],
      "execution_count": null,
      "outputs": [
        {
          "output_type": "stream",
          "name": "stdout",
          "text": [
            "{'name': 'sequential', 'layers': [{'class_name': 'InputLayer', 'config': {'batch_input_shape': (None, 124, 124, 1), 'dtype': 'float32', 'sparse': False, 'ragged': False, 'name': 'conv2d_input'}}, {'class_name': 'Conv2D', 'config': {'name': 'conv2d', 'trainable': True, 'batch_input_shape': (None, 124, 124, 1), 'dtype': 'float32', 'filters': 75, 'kernel_size': (3, 3), 'strides': (1, 1), 'padding': 'valid', 'data_format': 'channels_last', 'dilation_rate': (1, 1), 'groups': 1, 'activation': 'relu', 'use_bias': True, 'kernel_initializer': {'class_name': 'GlorotUniform', 'config': {'seed': None}}, 'bias_initializer': {'class_name': 'Zeros', 'config': {}}, 'kernel_regularizer': None, 'bias_regularizer': None, 'activity_regularizer': None, 'kernel_constraint': None, 'bias_constraint': None}}, {'class_name': 'MaxPooling2D', 'config': {'name': 'max_pooling2d', 'trainable': True, 'dtype': 'float32', 'pool_size': (2, 2), 'padding': 'valid', 'strides': (2, 2), 'data_format': 'channels_last'}}, {'class_name': 'Flatten', 'config': {'name': 'flatten', 'trainable': True, 'dtype': 'float32', 'data_format': 'channels_last'}}, {'class_name': 'Dense', 'config': {'name': 'dense', 'trainable': True, 'dtype': 'float32', 'units': 512, 'activation': 'relu', 'use_bias': True, 'kernel_initializer': {'class_name': 'GlorotUniform', 'config': {'seed': None}}, 'bias_initializer': {'class_name': 'Zeros', 'config': {}}, 'kernel_regularizer': {'class_name': 'L2', 'config': {'l2': 9.999999747378752e-06}}, 'bias_regularizer': None, 'activity_regularizer': None, 'kernel_constraint': None, 'bias_constraint': None}}, {'class_name': 'Dropout', 'config': {'name': 'dropout', 'trainable': True, 'dtype': 'float32', 'rate': 0.2, 'noise_shape': None, 'seed': None}}, {'class_name': 'Dense', 'config': {'name': 'dense_1', 'trainable': True, 'dtype': 'float32', 'units': 128, 'activation': 'relu', 'use_bias': True, 'kernel_initializer': {'class_name': 'GlorotUniform', 'config': {'seed': None}}, 'bias_initializer': {'class_name': 'Zeros', 'config': {}}, 'kernel_regularizer': {'class_name': 'L2', 'config': {'l2': 9.999999747378752e-06}}, 'bias_regularizer': None, 'activity_regularizer': None, 'kernel_constraint': None, 'bias_constraint': None}}, {'class_name': 'Dropout', 'config': {'name': 'dropout_1', 'trainable': True, 'dtype': 'float32', 'rate': 0.2, 'noise_shape': None, 'seed': None}}, {'class_name': 'Dense', 'config': {'name': 'dense_2', 'trainable': True, 'dtype': 'float32', 'units': 2, 'activation': 'softmax', 'use_bias': True, 'kernel_initializer': {'class_name': 'GlorotUniform', 'config': {'seed': None}}, 'bias_initializer': {'class_name': 'Zeros', 'config': {}}, 'kernel_regularizer': None, 'bias_regularizer': None, 'activity_regularizer': None, 'kernel_constraint': None, 'bias_constraint': None}}]}\n"
          ]
        }
      ]
    },
    {
      "cell_type": "markdown",
      "metadata": {
        "id": "MenoB0enSZBU"
      },
      "source": [
        "## Crear un nuevo modelo desde la arquitectura"
      ]
    },
    {
      "cell_type": "code",
      "metadata": {
        "id": "Bst992BOk9NR"
      },
      "source": [
        "model_same_config = tf.keras.Sequential.from_config(config_dict)"
      ],
      "execution_count": null,
      "outputs": []
    },
    {
      "cell_type": "code",
      "metadata": {
        "colab": {
          "base_uri": "https://localhost:8080/"
        },
        "id": "8n01RXaPlLeY",
        "outputId": "35bb3d31-83d3-4c23-83ac-0160eee371b3"
      },
      "source": [
        "model_same_config.summary()"
      ],
      "execution_count": null,
      "outputs": [
        {
          "output_type": "stream",
          "name": "stdout",
          "text": [
            "Model: \"sequential\"\n",
            "_________________________________________________________________\n",
            "Layer (type)                 Output Shape              Param #   \n",
            "=================================================================\n",
            "conv2d (Conv2D)              (None, 122, 122, 75)      750       \n",
            "_________________________________________________________________\n",
            "max_pooling2d (MaxPooling2D) (None, 61, 61, 75)        0         \n",
            "_________________________________________________________________\n",
            "flatten (Flatten)            (None, 279075)            0         \n",
            "_________________________________________________________________\n",
            "dense (Dense)                (None, 512)               142886912 \n",
            "_________________________________________________________________\n",
            "dropout (Dropout)            (None, 512)               0         \n",
            "_________________________________________________________________\n",
            "dense_1 (Dense)              (None, 128)               65664     \n",
            "_________________________________________________________________\n",
            "dropout_1 (Dropout)          (None, 128)               0         \n",
            "_________________________________________________________________\n",
            "dense_2 (Dense)              (None, 2)                 258       \n",
            "=================================================================\n",
            "Total params: 142,953,584\n",
            "Trainable params: 142,953,584\n",
            "Non-trainable params: 0\n",
            "_________________________________________________________________\n"
          ]
        }
      ]
    },
    {
      "cell_type": "markdown",
      "metadata": {
        "id": "uuszUIHXSegc"
      },
      "source": [
        "### Lecturas adicionales para almacenamiento de arquitectura\n",
        "* https://www.tensorflow.org/guide/keras/save_and_serialize#architecture-only_saving\n",
        "* https://keras.io/getting-started/faq/#how-can-i-save-a-keras-model"
      ]
    },
    {
      "cell_type": "markdown",
      "metadata": {
        "id": "1XeY53PSShXF"
      },
      "source": [
        "## Guardar y cargar únicamente los pesos\n",
        "#### Entrenar el modelo con los checkpoints"
      ]
    },
    {
      "cell_type": "code",
      "metadata": {
        "id": "RCCv_YTGlOEo"
      },
      "source": [
        "from tensorflow.keras.callbacks import ModelCheckpoint"
      ],
      "execution_count": null,
      "outputs": []
    },
    {
      "cell_type": "code",
      "metadata": {
        "colab": {
          "base_uri": "https://localhost:8080/"
        },
        "id": "KVyH59Lslnyy",
        "outputId": "d9809cba-9b6d-44ea-b712-bd30998c2de4"
      },
      "source": [
        "model_weight = get_model()\n",
        "model_weight.summary()"
      ],
      "execution_count": null,
      "outputs": [
        {
          "output_type": "stream",
          "name": "stdout",
          "text": [
            "Model: \"sequential_1\"\n",
            "_________________________________________________________________\n",
            "Layer (type)                 Output Shape              Param #   \n",
            "=================================================================\n",
            "conv2d_1 (Conv2D)            (None, 122, 122, 75)      750       \n",
            "_________________________________________________________________\n",
            "max_pooling2d_1 (MaxPooling2 (None, 61, 61, 75)        0         \n",
            "_________________________________________________________________\n",
            "flatten_1 (Flatten)          (None, 279075)            0         \n",
            "_________________________________________________________________\n",
            "dense_3 (Dense)              (None, 256)               71443456  \n",
            "_________________________________________________________________\n",
            "dropout_2 (Dropout)          (None, 256)               0         \n",
            "_________________________________________________________________\n",
            "dense_4 (Dense)              (None, 128)               32896     \n",
            "_________________________________________________________________\n",
            "dropout_3 (Dropout)          (None, 128)               0         \n",
            "_________________________________________________________________\n",
            "dense_5 (Dense)              (None, 2)                 258       \n",
            "=================================================================\n",
            "Total params: 71,477,360\n",
            "Trainable params: 71,477,360\n",
            "Non-trainable params: 0\n",
            "_________________________________________________________________\n"
          ]
        }
      ]
    },
    {
      "cell_type": "code",
      "metadata": {
        "id": "oXTpLg6xlszW"
      },
      "source": [
        "model_weight.compile(optimizer = \"adam\", loss = \"categorical_crossentropy\", metrics = [\"accuracy\"])"
      ],
      "execution_count": null,
      "outputs": []
    },
    {
      "cell_type": "code",
      "metadata": {
        "id": "EA0wvntnl2EP"
      },
      "source": [
        "# Creamos unos checkpoint de nuestros modelos con TensorFlow, verbose: mostrar mas información\n",
        "checkpoint_path = \"model_checpoints/checkpoint\"\n",
        "checkpoint_weighs= ModelCheckpoint(\n",
        "    filepath = checkpoint_path,\n",
        "    frecuency = \"epoch\",\n",
        "    save_weights_only = True,\n",
        "    verbose = 1\n",
        "\n",
        ")"
      ],
      "execution_count": null,
      "outputs": []
    },
    {
      "cell_type": "code",
      "metadata": {
        "colab": {
          "base_uri": "https://localhost:8080/"
        },
        "id": "lpD1IJ92mIxs",
        "outputId": "ae181333-ff80-4da1-9d2c-17daa3647b47"
      },
      "source": [
        "# Entrenamos el modelo, y almacenamos en cada steps los pesos del moedelo.\n",
        "history_weight = model_weight.fit(\n",
        "    train_generator,\n",
        "    epochs = 20,\n",
        "    callbacks = [checkpoint_weighs],\n",
        "    validation_data = validation_generator\n",
        ")\n"
      ],
      "execution_count": null,
      "outputs": [
        {
          "output_type": "stream",
          "name": "stdout",
          "text": [
            "Epoch 1/20\n",
            "216/216 [==============================] - 47s 213ms/step - loss: 1.0166 - accuracy: 0.5603 - val_loss: 0.6560 - val_accuracy: 0.6184\n",
            "\n",
            "Epoch 00001: saving model to model_checpoints/checkpoint\n",
            "Epoch 2/20\n",
            "216/216 [==============================] - 45s 208ms/step - loss: 0.6399 - accuracy: 0.6523 - val_loss: 0.5683 - val_accuracy: 0.7337\n",
            "\n",
            "Epoch 00002: saving model to model_checpoints/checkpoint\n",
            "Epoch 3/20\n",
            "216/216 [==============================] - 46s 212ms/step - loss: 0.5919 - accuracy: 0.7052 - val_loss: 0.5266 - val_accuracy: 0.7855\n",
            "\n",
            "Epoch 00003: saving model to model_checpoints/checkpoint\n",
            "Epoch 4/20\n",
            "216/216 [==============================] - 45s 207ms/step - loss: 0.5397 - accuracy: 0.7540 - val_loss: 0.4545 - val_accuracy: 0.8124\n",
            "\n",
            "Epoch 00004: saving model to model_checpoints/checkpoint\n",
            "Epoch 5/20\n",
            "216/216 [==============================] - 45s 206ms/step - loss: 0.4726 - accuracy: 0.8044 - val_loss: 0.3361 - val_accuracy: 0.8986\n",
            "\n",
            "Epoch 00005: saving model to model_checpoints/checkpoint\n",
            "Epoch 6/20\n",
            "216/216 [==============================] - 45s 209ms/step - loss: 0.3963 - accuracy: 0.8503 - val_loss: 0.3303 - val_accuracy: 0.9166\n",
            "\n",
            "Epoch 00006: saving model to model_checpoints/checkpoint\n",
            "Epoch 7/20\n",
            "216/216 [==============================] - 45s 208ms/step - loss: 0.3313 - accuracy: 0.8890 - val_loss: 0.2157 - val_accuracy: 0.9536\n",
            "\n",
            "Epoch 00007: saving model to model_checpoints/checkpoint\n",
            "Epoch 8/20\n",
            "216/216 [==============================] - 45s 209ms/step - loss: 0.2804 - accuracy: 0.9154 - val_loss: 0.1848 - val_accuracy: 0.9675\n",
            "\n",
            "Epoch 00008: saving model to model_checpoints/checkpoint\n",
            "Epoch 9/20\n",
            "216/216 [==============================] - 45s 208ms/step - loss: 0.2484 - accuracy: 0.9335 - val_loss: 0.1332 - val_accuracy: 0.9912\n",
            "\n",
            "Epoch 00009: saving model to model_checpoints/checkpoint\n",
            "Epoch 10/20\n",
            "216/216 [==============================] - 45s 208ms/step - loss: 0.2122 - accuracy: 0.9489 - val_loss: 0.1317 - val_accuracy: 0.9867\n",
            "\n",
            "Epoch 00010: saving model to model_checpoints/checkpoint\n",
            "Epoch 11/20\n",
            "216/216 [==============================] - 45s 209ms/step - loss: 0.1983 - accuracy: 0.9558 - val_loss: 0.1095 - val_accuracy: 0.9949\n",
            "\n",
            "Epoch 00011: saving model to model_checpoints/checkpoint\n",
            "Epoch 12/20\n",
            "216/216 [==============================] - 45s 209ms/step - loss: 0.1866 - accuracy: 0.9601 - val_loss: 0.1123 - val_accuracy: 0.9943\n",
            "\n",
            "Epoch 00012: saving model to model_checpoints/checkpoint\n",
            "Epoch 13/20\n",
            "216/216 [==============================] - ETA: 0s - loss: 0.1746 - accuracy: 0.9654"
          ]
        }
      ]
    },
    {
      "cell_type": "markdown",
      "metadata": {
        "id": "LFl0tmyFSzod"
      },
      "source": [
        "#### Guardamos los pesos de forma manual"
      ]
    },
    {
      "cell_type": "code",
      "metadata": {
        "id": "QALTjsN9qFs3"
      },
      "source": [
        "model_weight.save_weights(\"model_manul/my_model\")"
      ],
      "execution_count": null,
      "outputs": []
    },
    {
      "cell_type": "markdown",
      "metadata": {
        "id": "96lFwJv-S0pa"
      },
      "source": [
        "#### Creamos la arquitectura y cargamos los pesos"
      ]
    },
    {
      "cell_type": "code",
      "metadata": {
        "id": "y711fnB8qJMo"
      },
      "source": [
        "model_weights2 = get_model()\n",
        "model_weights2.compile(optimizer = \"adam\", loss = \"categorical_crossentropy\", metrics = [\"accuracy\"])"
      ],
      "execution_count": null,
      "outputs": []
    },
    {
      "cell_type": "code",
      "metadata": {
        "id": "UMC8it9DqbEa"
      },
      "source": [
        "model_weights2.load_weights(checkpoint_path)\n"
      ],
      "execution_count": null,
      "outputs": []
    },
    {
      "cell_type": "code",
      "metadata": {
        "id": "hPM2aXSfqjPX"
      },
      "source": [
        "model_weights2.evaluate(test_generator)"
      ],
      "execution_count": null,
      "outputs": []
    },
    {
      "cell_type": "code",
      "metadata": {
        "id": "iBHsXORjqmF_"
      },
      "source": [
        "model_weight.evaluate(test_generator)"
      ],
      "execution_count": null,
      "outputs": []
    },
    {
      "cell_type": "markdown",
      "metadata": {
        "id": "AdcZulBoS-0S"
      },
      "source": [
        "## Criterios para lmacenar modelos\n",
        "#### Almacenar infraestructura y peso"
      ]
    },
    {
      "cell_type": "code",
      "metadata": {
        "id": "5JtijvlcqqXk"
      },
      "source": [
        "checkpoint_path = \"model_checpoints_complete\"\n",
        "checkpoint_weighs= ModelCheckpoint(\n",
        "    filepath = checkpoint_path,\n",
        "    frecuency = \"epoch\",\n",
        "    save_weights_only = False,\n",
        "    monitor = \"val_accuracy\",\n",
        "    save_best_only = True,\n",
        "    verbose = 1\n",
        "\n",
        ")"
      ],
      "execution_count": null,
      "outputs": []
    },
    {
      "cell_type": "code",
      "metadata": {
        "id": "lZxvA2wSsnKf"
      },
      "source": [
        "model_complete = get_model()\n",
        "model_complete.compile(optimizer = \"adam\", loss = \"categorical_crossentropy\", metrics = [\"accuracy\"])\n",
        "\n",
        "history_complete = model_complete.fit(\n",
        "    train_generator,\n",
        "    epochs = 20,\n",
        "    callbacks = [checkpoint_weighs],\n",
        "    validation_data = validation_generator\n",
        ")"
      ],
      "execution_count": null,
      "outputs": []
    },
    {
      "cell_type": "markdown",
      "metadata": {
        "id": "QlmaVYpJTJfv"
      },
      "source": [
        "#### Almacenar infraestructura y peso manual"
      ]
    },
    {
      "cell_type": "code",
      "metadata": {
        "id": "yZHgK3mztqwB"
      },
      "source": [
        "model_complete.save(\"saved_model_complete/mymodel\")"
      ],
      "execution_count": null,
      "outputs": []
    },
    {
      "cell_type": "markdown",
      "metadata": {
        "id": "AcnEnv4ITMz_"
      },
      "source": [
        "#### Cargamos nuestro modelo completo"
      ]
    },
    {
      "cell_type": "code",
      "metadata": {
        "id": "FsUxVMvpwdku"
      },
      "source": [
        "model_complete3 = tf.keras.models.load_model(\"saved_model_complete/mymodel\")"
      ],
      "execution_count": null,
      "outputs": []
    },
    {
      "cell_type": "code",
      "metadata": {
        "id": "ffhb1IwUwo7w"
      },
      "source": [
        "model_complete3.evaluate(test_generator)"
      ],
      "execution_count": null,
      "outputs": []
    },
    {
      "cell_type": "code",
      "metadata": {
        "id": "-ZMSSZZwwuIB"
      },
      "source": [
        "model_complete.evaluate(test_generator)"
      ],
      "execution_count": null,
      "outputs": []
    },
    {
      "cell_type": "markdown",
      "metadata": {
        "id": "ziQ_u00qTRE_"
      },
      "source": [
        "#### Usar el formato .h5 para guardar modelos.\n",
        "Hierarchical Data Format (HDF5 format)"
      ]
    },
    {
      "cell_type": "code",
      "metadata": {
        "id": "cKnA_tfHww5U"
      },
      "source": [
        "!pip install pyyaml h5py"
      ],
      "execution_count": null,
      "outputs": []
    },
    {
      "cell_type": "code",
      "metadata": {
        "id": "HHSmk54fxAMH"
      },
      "source": [
        "model_complete3.save(\"my_model.h5\")"
      ],
      "execution_count": null,
      "outputs": []
    },
    {
      "cell_type": "code",
      "metadata": {
        "id": "OK8_TmuRxFbo"
      },
      "source": [
        "model_complete4 = tf.keras.models.load_model(\"my_model.h5\")"
      ],
      "execution_count": null,
      "outputs": []
    },
    {
      "cell_type": "markdown",
      "metadata": {
        "id": "y06wFKq9TaWY"
      },
      "source": [
        "## Creamos nuestra modelo pre-entrenado con modelos de Keras\n",
        "#### Preprocesamiento de nuestra base de datos.\n",
        "Debemos revisar cual es el input de nuestro modelos (Tamaño del tensor de entrada)"
      ]
    },
    {
      "cell_type": "code",
      "metadata": {
        "id": "9hJJ4TaZzD0R"
      },
      "source": [
        "train_generator_resize = train_datagen.flow_from_directory(\n",
        "    train_dir,\n",
        "    target_size = (150, 150),\n",
        "    batch_size = 128,\n",
        "    class_mode = \"categorical\",\n",
        "    color_mode = \"rgb\",\n",
        "    subset = \"training\"\n",
        ")\n",
        "\n",
        "validation_generator_resize = test_datagen.flow_from_directory(\n",
        "    test_dir,\n",
        "    target_size = (150, 150),\n",
        "    batch_size = 128,\n",
        "    class_mode = \"categorical\",\n",
        "    color_mode = \"rgb\",\n",
        "    subset = \"validation\"\n",
        ")\n",
        "\n",
        "test_generator_resize = test_datagen.flow_from_directory(\n",
        "    test_dir,\n",
        "    target_size = (150, 150),\n",
        "    batch_size = 128,\n",
        "    class_mode = \"categorical\",\n",
        "    color_mode = \"rgb\"\n",
        ")"
      ],
      "execution_count": null,
      "outputs": []
    },
    {
      "cell_type": "code",
      "metadata": {
        "id": "jL4LH_2u0VJI"
      },
      "source": [
        "from tensorflow.keras.applications.inception_v3 import InceptionV3\n",
        "\n",
        "pre_trained_model = InceptionV3(\n",
        "    include_top = False,\n",
        "    input_tensor = tf.keras.layers.Input(shape = (150, 150, 3))\n",
        ")\n",
        "\n",
        "for layer in pre_trained_model.layers:\n",
        "  layer.trainable = False\n",
        "\n",
        "pre_trained_model.summary()"
      ],
      "execution_count": null,
      "outputs": []
    },
    {
      "cell_type": "markdown",
      "metadata": {
        "id": "yg67lUbsTiXS"
      },
      "source": [
        "#### Congelamos el modelo \n",
        "Congelamos hasta la capa mixed 7 para agregar nuestra capas de salida"
      ]
    },
    {
      "cell_type": "code",
      "metadata": {
        "id": "XEerNemF2aCj"
      },
      "source": [
        "last_layers= pre_trained_model.get_layer(\"mixed7\")\n",
        "last_output = last_layers.output"
      ],
      "execution_count": null,
      "outputs": []
    },
    {
      "cell_type": "code",
      "metadata": {
        "id": "dZbiekkfm68L"
      },
      "source": [
        "x = tf.keras.layers.Flatten()(last_output)\n",
        "x = tf.keras.layers.Dense(128, activation = \"relu\")(x)\n",
        "x = tf.keras.layers.Dropout(0.2)(x)\n",
        "x = tf.keras.layers.Dense(len(classes), activation= \"softmax\")(x)\n",
        "\n",
        "model_keras = tf.keras.Model(pre_trained_model.input, x)\n",
        "\n",
        "model_keras.compile(optimizer= \"adam\", loss = \"categorical_crossentropy\", metrics = [\"accuracy\"])\n",
        "model_keras.summary()"
      ],
      "execution_count": null,
      "outputs": []
    },
    {
      "cell_type": "code",
      "metadata": {
        "id": "duP71LD-nsqM"
      },
      "source": [
        "history_keras = model_keras.fit(\n",
        "    train_generator_resize,\n",
        "    epochs = 5,\n",
        "    validation_data = validation_generator_resize\n",
        ")"
      ],
      "execution_count": null,
      "outputs": []
    },
    {
      "cell_type": "code",
      "metadata": {
        "id": "XONzbDTroRSH"
      },
      "source": [
        "results = model_keras.evaluate(test_generator_resize)"
      ],
      "execution_count": null,
      "outputs": []
    },
    {
      "cell_type": "markdown",
      "metadata": {
        "id": "Gs1TresHTwDF"
      },
      "source": [
        "## Creamos nuestra modelo pre-entrenado con modelos desde TensorFlow Hub"
      ]
    },
    {
      "cell_type": "code",
      "metadata": {
        "id": "sk81x3kNqudp"
      },
      "source": [
        "import tensorflow_hub as hub"
      ],
      "execution_count": null,
      "outputs": []
    },
    {
      "cell_type": "code",
      "metadata": {
        "id": "q6_ZhRy3q0Pt"
      },
      "source": [
        "module_url = \"https://tfhub.dev/google/imagenet/mobilenet_v1_050_160/classification/4\"\n",
        "\n",
        "model_hub = tf.keras.Sequential([\n",
        "                                 tf.keras.layers.InputLayer(input_shape=(150, 150, 3)),\n",
        "                                 hub.KerasLayer(module_url, trainable=False),\n",
        "                                 tf.keras.layers.Flatten(),\n",
        "                                 tf.keras.layers.Dense(128, activation =\"relu\"),\n",
        "                                 tf.keras.layers.Dropout(rate=0.2),\n",
        "                                 tf.keras.layers.Dense(len(classes), activation = \"softmax\")\n",
        "])\n",
        "\n",
        "model_hub.build((None, 150, 150, 3))\n",
        "model_hub.summary()"
      ],
      "execution_count": null,
      "outputs": []
    },
    {
      "cell_type": "code",
      "metadata": {
        "id": "wevfaEPBr6Op"
      },
      "source": [
        "model_hub.compile(optimizer= \"adam\", loss = \"categorical_crossentropy\", metrics = [\"accuracy\"])\n",
        "\n",
        "history_hub = model_hub.fit(\n",
        "    train_generator_resize,\n",
        "    epochs= 5,\n",
        "    validation_data = validation_generator_resize\n",
        ")"
      ],
      "execution_count": null,
      "outputs": []
    },
    {
      "cell_type": "code",
      "metadata": {
        "id": "9FlCzCe7tEvA"
      },
      "source": [
        "results = model_hub.evaluate(test_generator_resize)"
      ],
      "execution_count": null,
      "outputs": []
    },
    {
      "cell_type": "markdown",
      "metadata": {
        "id": "c2IoCnzST6YH"
      },
      "source": [
        "## Conectar con TensorBoard"
      ]
    },
    {
      "cell_type": "code",
      "metadata": {
        "id": "eXphqZkXtj7f"
      },
      "source": [
        "from tensorflow.python.keras.callbacks import TensorBoard\n",
        "from time import time"
      ],
      "execution_count": null,
      "outputs": []
    },
    {
      "cell_type": "code",
      "metadata": {
        "id": "-vl-0qPfxkjn"
      },
      "source": [
        "model_tensorboard = get_model()\n",
        "model_tensorboard.compile(optimizer = \"adam\", loss = \"categorical_crossentropy\", metrics = [\"accuracy\"])\n",
        "\n"
      ],
      "execution_count": null,
      "outputs": []
    },
    {
      "cell_type": "code",
      "metadata": {
        "id": "7CGggUtjxyPC"
      },
      "source": [
        "callback_tensorboard = TensorBoard(log_dir = \"logs/{}\".format(time()))"
      ],
      "execution_count": null,
      "outputs": []
    },
    {
      "cell_type": "code",
      "metadata": {
        "id": "mhBODaLPxwCA"
      },
      "source": [
        "history_tensorboard = model_tensorboard.fit(\n",
        "    train_generator,\n",
        "    epochs = 20,\n",
        "    callbacks = [callback_tensorboard],\n",
        "    validation_data = validation_generator\n",
        ")"
      ],
      "execution_count": null,
      "outputs": []
    },
    {
      "cell_type": "markdown",
      "metadata": {
        "id": "IxH2oX8xT9mX"
      },
      "source": [
        "#### Ejecutamos nuestro tensorboard con los comandos magic.\n",
        "Se puede visualizar desde Google Colab o desde el terminal"
      ]
    },
    {
      "cell_type": "code",
      "metadata": {
        "id": "aaU4OmBqz3yn"
      },
      "source": [
        "%load_ext tensorboard\n",
        "%tensorboard --logdir logs \n"
      ],
      "execution_count": null,
      "outputs": []
    },
    {
      "cell_type": "markdown",
      "metadata": {
        "id": "W3CcMA6YUAqc"
      },
      "source": [
        "## Comportamos los resultados con el mundo entero\n",
        "Mayor información ingresa sobre Tensorflow.dev [aquí](https://tensorboard.dev/)"
      ]
    },
    {
      "cell_type": "code",
      "metadata": {
        "id": "AWeSFUW50GKw"
      },
      "source": [
        "!tensorboard dev upload --logdir ./logs --name \"Proyecto de lenguaje de señas \" --description \"Estos son los resultados del entrenamiento\" --one_shot"
      ],
      "execution_count": null,
      "outputs": []
    },
    {
      "cell_type": "code",
      "metadata": {
        "id": "WDfUBD5j0sHy"
      },
      "source": [
        ""
      ],
      "execution_count": null,
      "outputs": []
    }
  ]
}